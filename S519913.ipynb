{
 "cells": [
  {
   "cell_type": "markdown",
   "id": "e947b504-3cbc-4947-843b-86d217831af7",
   "metadata": {},
   "source": [
    "Gavin Albrecht"
   ]
  },
  {
   "cell_type": "code",
   "execution_count": 4,
   "id": "e7ed2c48-29e2-4bea-ab04-3d64d4d145be",
   "metadata": {},
   "outputs": [
    {
     "name": "stdout",
     "output_type": "stream",
     "text": [
      "        \n",
      "*      *\n",
      "**    **\n",
      "***  ***\n",
      "********\n"
     ]
    }
   ],
   "source": [
    "for x in range(5):\n",
    "    print(\"*\"*x +\" \"*2*(4-x)+\"*\"*x)"
   ]
  },
  {
   "cell_type": "code",
   "execution_count": null,
   "id": "473ee592-dd97-4863-af6a-9193f5093e5c",
   "metadata": {},
   "outputs": [],
   "source": []
  }
 ],
 "metadata": {
  "kernelspec": {
   "display_name": "Python 3 (ipykernel)",
   "language": "python",
   "name": "python3"
  },
  "language_info": {
   "codemirror_mode": {
    "name": "ipython",
    "version": 3
   },
   "file_extension": ".py",
   "mimetype": "text/x-python",
   "name": "python",
   "nbconvert_exporter": "python",
   "pygments_lexer": "ipython3",
   "version": "3.9.12"
  }
 },
 "nbformat": 4,
 "nbformat_minor": 5
}
